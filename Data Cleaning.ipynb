{
 "cells": [
  {
   "cell_type": "code",
   "execution_count": 1,
   "metadata": {},
   "outputs": [],
   "source": [
    " # Dependencies\n",
    "import os\n",
    "import pandas as pd"
   ]
  },
  {
   "cell_type": "code",
   "execution_count": 7,
   "metadata": {},
   "outputs": [],
   "source": [
    "# Store filepath in a variable\n",
    "file_one = os.path.join('Data', '201709-citibike-tripdata.csv')\n",
    "file_two = os.path.join('Data', '201710-citibike-tripdata.csv')\n",
    "file_three = os.path.join('Data', '201711-citibike-tripdata.csv')\n",
    "file_four = os.path.join('Data', '201712-citibike-tripdata.csv')\n",
    "file_five = os.path.join('Data', '201801-citibike-tripdata.csv')\n",
    "file_six = os.path.join('Data', '201802-citibike-tripdata.csv')\n",
    "file_seven = os.path.join('Data', '201803-citibike-tripdata.csv')\n",
    "file_eight = os.path.join('Data', '201804-citibike-tripdata.csv')\n",
    "file_nine = os.path.join('Data', '201805-citibike-tripdata.csv')\n",
    "file_ten = os.path.join('Data', '201806-citibike-tripdata.csv')\n",
    "file_eleven = os.path.join('Data', '201807-citibike-tripdata.csv')\n",
    "file_twelve = os.path.join('Data', '201808-citibike-tripdata.csv')\n",
    "file_thirteen = os.path.join('Data', '201809-citibike-tripdata.csv')"
   ]
  },
  {
   "cell_type": "code",
   "execution_count": 8,
   "metadata": {},
   "outputs": [],
   "source": [
    "file_one_df = pd.read_csv(file_one)\n",
    "file_two_df = pd.read_csv(file_two)\n",
    "file_three_df = pd.read_csv(file_three)\n",
    "file_four_df = pd.read_csv(file_four)\n",
    "file_five_df = pd.read_csv(file_five)\n",
    "file_six_df = pd.read_csv(file_six)\n",
    "file_seven_df = pd.read_csv(file_seven)\n",
    "file_eight_df = pd.read_csv(file_eight)\n",
    "file_nine_df = pd.read_csv(file_nine)\n",
    "file_ten_df = pd.read_csv(file_ten)\n",
    "file_eleven_df = pd.read_csv(file_eleven)\n",
    "file_twelve_df = pd.read_csv(file_twelve)\n",
    "file_thirteen_df = pd.read_csv(file_thirteen)"
   ]
  },
  {
   "cell_type": "code",
   "execution_count": 32,
   "metadata": {},
   "outputs": [
    {
     "data": {
      "text/plain": [
       "Index(['tripduration', 'starttime', 'stoptime', 'start station id',\n",
       "       'start station name', 'start station latitude',\n",
       "       'start station longitude', 'end station id', 'end station name',\n",
       "       'end station latitude', 'end station longitude', 'bikeid', 'usertype',\n",
       "       'birth year', 'gender'],\n",
       "      dtype='object')"
      ]
     },
     "execution_count": 32,
     "metadata": {},
     "output_type": "execute_result"
    }
   ],
   "source": [
    "file_twelve_df.columns"
   ]
  },
  {
   "cell_type": "code",
   "execution_count": 37,
   "metadata": {},
   "outputs": [],
   "source": [
    "frames = [file_one_df, file_two_df, file_three_df, file_four_df, file_five_df, file_six_df, file_seven_df, file_eight_df, file_nine_df, file_ten_df, file_eleven_df, file_twelve_df, file_thirteen_df]\n",
    "df = pd.concat(frames)\n",
    "df = df.reset_index()"
   ]
  },
  {
   "cell_type": "code",
   "execution_count": 46,
   "metadata": {},
   "outputs": [],
   "source": [
    "# df = df.drop(['index'], axis=1)\n",
    "df = df.reset_index()"
   ]
  },
  {
   "cell_type": "code",
   "execution_count": 50,
   "metadata": {},
   "outputs": [],
   "source": [
    "df = df.rename(columns={'index': 'rideid'})\n",
    "df.to_csv('citibike.csv', index=False)"
   ]
  },
  {
   "cell_type": "code",
   "execution_count": null,
   "metadata": {},
   "outputs": [],
   "source": []
  }
 ],
 "metadata": {
  "kernelspec": {
   "display_name": "Python 3",
   "language": "python",
   "name": "python3"
  },
  "language_info": {
   "codemirror_mode": {
    "name": "ipython",
    "version": 3
   },
   "file_extension": ".py",
   "mimetype": "text/x-python",
   "name": "python",
   "nbconvert_exporter": "python",
   "pygments_lexer": "ipython3",
   "version": "3.6.4"
  }
 },
 "nbformat": 4,
 "nbformat_minor": 2
}
